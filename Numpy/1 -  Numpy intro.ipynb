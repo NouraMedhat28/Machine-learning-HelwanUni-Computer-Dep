{
 "cells": [
  {
   "cell_type": "markdown",
   "id": "1dc79fab",
   "metadata": {},
   "source": [
    "# Numpy notes\n",
    "### Author : Ahmed Gamal"
   ]
  },
  {
   "cell_type": "markdown",
   "id": "e5ce9847",
   "metadata": {},
   "source": [
    "<br>"
   ]
  },
  {
   "cell_type": "markdown",
   "id": "52ca0f2b",
   "metadata": {},
   "source": [
    "### First thing to start with is to install the numpy library using command \" pip install numpy \" in your cmd"
   ]
  },
  {
   "cell_type": "markdown",
   "id": "af7b331c",
   "metadata": {},
   "source": [
    "###  Or you can execute the command \" ! pip install numpy \" in Jupyter notebook :"
   ]
  },
  {
   "cell_type": "code",
   "execution_count": null,
   "id": "9a3c5c81",
   "metadata": {},
   "outputs": [],
   "source": [
    "! pip install numpy"
   ]
  },
  {
   "cell_type": "markdown",
   "id": "7a23366d",
   "metadata": {},
   "source": [
    "<br>"
   ]
  },
  {
   "cell_type": "markdown",
   "id": "faa90aa5",
   "metadata": {},
   "source": [
    "### Importing the numpy library :"
   ]
  },
  {
   "cell_type": "code",
   "execution_count": 2,
   "id": "e289d4da",
   "metadata": {},
   "outputs": [],
   "source": [
    "import numpy as np\n",
    "\n",
    "# Note : \"np\" is just a name. you can import the library as whatever you want"
   ]
  },
  {
   "cell_type": "markdown",
   "id": "e45fd8c7",
   "metadata": {},
   "source": [
    "### Initializing array :"
   ]
  },
  {
   "cell_type": "code",
   "execution_count": 5,
   "id": "478834fb",
   "metadata": {},
   "outputs": [
    {
     "name": "stdout",
     "output_type": "stream",
     "text": [
      "[1 2 3]\n"
     ]
    }
   ],
   "source": [
    "# One dimentional array \n",
    "\n",
    "a = np.array([1,2,3])\n",
    "print (a)"
   ]
  },
  {
   "cell_type": "code",
   "execution_count": 6,
   "id": "505012af",
   "metadata": {},
   "outputs": [
    {
     "name": "stdout",
     "output_type": "stream",
     "text": [
      "[[9. 8. 7.]\n",
      " [6. 5. 4.]]\n"
     ]
    }
   ],
   "source": [
    "# two dimentional array \n",
    "\n",
    "b = np.array([[9.0 , 8.0,7.0],[6.0,5.0,4.0]])\n",
    "print (b)"
   ]
  },
  {
   "cell_type": "markdown",
   "id": "ba14e55f",
   "metadata": {},
   "source": [
    "### Get the dimention of the array:"
   ]
  },
  {
   "cell_type": "code",
   "execution_count": 7,
   "id": "55ca49a4",
   "metadata": {},
   "outputs": [
    {
     "name": "stdout",
     "output_type": "stream",
     "text": [
      "1\n",
      "2\n"
     ]
    }
   ],
   "source": [
    "# you can get the dimention of an array using \"ndim\"\n",
    "\n",
    "'''\n",
    "\n",
    "here the array a is one dimentional array while array b is two dimentional array\n",
    "\n",
    "'''\n",
    "\n",
    "print (a.ndim)\n",
    "print (b.ndim)"
   ]
  },
  {
   "cell_type": "markdown",
   "id": "664c9cac",
   "metadata": {},
   "source": [
    "### Get shape of the array [r , c]"
   ]
  },
  {
   "cell_type": "code",
   "execution_count": 8,
   "id": "5420774b",
   "metadata": {},
   "outputs": [
    {
     "name": "stdout",
     "output_type": "stream",
     "text": [
      "(3,)\n",
      "(2, 3)\n"
     ]
    }
   ],
   "source": [
    "# you can get the shape of an array using \"shape\"\n",
    "'''\n",
    "the array a has 1 row and 3 columns  while array b has 2 rows and 3 columns \n",
    "'''\n",
    "print (a.shape)\n",
    "print (b.shape)"
   ]
  },
  {
   "cell_type": "markdown",
   "id": "f9166d7f",
   "metadata": {},
   "source": [
    "### Get data type of of elements in array"
   ]
  },
  {
   "cell_type": "code",
   "execution_count": 9,
   "id": "f71d234f",
   "metadata": {},
   "outputs": [
    {
     "name": "stdout",
     "output_type": "stream",
     "text": [
      "int32\n"
     ]
    }
   ],
   "source": [
    "## you can get the type of an array using \"dtype\"\n",
    "\n",
    "print (a.dtype)"
   ]
  },
  {
   "cell_type": "markdown",
   "id": "59abaadf",
   "metadata": {},
   "source": [
    "### To change the data type of an array"
   ]
  },
  {
   "cell_type": "code",
   "execution_count": 10,
   "id": "336cac41",
   "metadata": {},
   "outputs": [
    {
     "name": "stdout",
     "output_type": "stream",
     "text": [
      "float32\n"
     ]
    }
   ],
   "source": [
    "## you can change the type of an array using \"astype\"\n",
    "\n",
    "a = a.astype('float32')\n",
    "\n",
    "print (a.dtype)"
   ]
  },
  {
   "cell_type": "markdown",
   "id": "2d723677",
   "metadata": {},
   "source": [
    "### Get size of an array "
   ]
  },
  {
   "cell_type": "code",
   "execution_count": 11,
   "id": "d8a0a1cb",
   "metadata": {},
   "outputs": [
    {
     "name": "stdout",
     "output_type": "stream",
     "text": [
      "3\n",
      "6\n"
     ]
    }
   ],
   "source": [
    "## you can get the size of an array using \"size\"\n",
    "\n",
    "print (a.size)\n",
    "print (b.size)"
   ]
  },
  {
   "cell_type": "markdown",
   "id": "6c533cc0",
   "metadata": {},
   "source": [
    "### Accessing a specific element / row / column"
   ]
  },
  {
   "cell_type": "code",
   "execution_count": 12,
   "id": "41255250",
   "metadata": {},
   "outputs": [
    {
     "name": "stdout",
     "output_type": "stream",
     "text": [
      "[[ 1  2  3  4  5  6  7]\n",
      " [ 8  9 10 11 12 13 14]]\n"
     ]
    }
   ],
   "source": [
    "a = np.array([[1,2,3,4,5,6,7] , [8,9,10,11,12,13,14]])\n",
    "print (a)"
   ]
  },
  {
   "cell_type": "markdown",
   "id": "6ddebc3b",
   "metadata": {},
   "source": [
    "#### To get a specific row"
   ]
  },
  {
   "cell_type": "code",
   "execution_count": 13,
   "id": "d054c681",
   "metadata": {},
   "outputs": [
    {
     "data": {
      "text/plain": [
       "array([1, 2, 3, 4, 5, 6, 7])"
      ]
     },
     "execution_count": 13,
     "metadata": {},
     "output_type": "execute_result"
    }
   ],
   "source": [
    "a[0 , :]\n",
    "\n",
    "# This line of code accessing row number 0 and prints every element in this row"
   ]
  },
  {
   "cell_type": "markdown",
   "id": "8448246f",
   "metadata": {},
   "source": [
    "#### To get a specific column"
   ]
  },
  {
   "cell_type": "code",
   "execution_count": 14,
   "id": "dfad4ab4",
   "metadata": {},
   "outputs": [
    {
     "data": {
      "text/plain": [
       "array([ 3, 10])"
      ]
     },
     "execution_count": 14,
     "metadata": {},
     "output_type": "execute_result"
    }
   ],
   "source": [
    "a[ : , 2]\n",
    "\n",
    "# This line of code accessing the column number 2 in every row in the array"
   ]
  },
  {
   "cell_type": "markdown",
   "id": "e3d2ed78",
   "metadata": {},
   "source": [
    "#### More proffessional access [startindex: endindex: stepsize]"
   ]
  },
  {
   "cell_type": "code",
   "execution_count": 15,
   "id": "ffef328e",
   "metadata": {},
   "outputs": [
    {
     "data": {
      "text/plain": [
       "array([2, 4, 6])"
      ]
     },
     "execution_count": 15,
     "metadata": {},
     "output_type": "execute_result"
    }
   ],
   "source": [
    "a[0 , 1:6:2]\n",
    "\n",
    "# This line of code accessing row number 0 and prints from column number 1 to column number 6 with step size 2"
   ]
  },
  {
   "cell_type": "markdown",
   "id": "2c7e7975",
   "metadata": {},
   "source": [
    "#### To change element in the array"
   ]
  },
  {
   "cell_type": "code",
   "execution_count": 16,
   "id": "cdc3dda1",
   "metadata": {},
   "outputs": [
    {
     "name": "stdout",
     "output_type": "stream",
     "text": [
      "[[ 1  2  3  4  5  6  7]\n",
      " [ 8  9 10 11 12 20 14]]\n"
     ]
    }
   ],
   "source": [
    "a[1 , 5] = 20\n",
    "# This line of code accessing the element in the row 1 and column 5 which is \"13\" and change it to 20\n",
    "print (a)"
   ]
  },
  {
   "cell_type": "markdown",
   "id": "49586d71",
   "metadata": {},
   "source": [
    "#### To change elements in a specific columns in every row"
   ]
  },
  {
   "cell_type": "code",
   "execution_count": 17,
   "id": "d2b55a57",
   "metadata": {},
   "outputs": [
    {
     "name": "stdout",
     "output_type": "stream",
     "text": [
      "[[ 1  2  5  4  5  6  7]\n",
      " [ 8  9  5 11 12 20 14]]\n"
     ]
    }
   ],
   "source": [
    "a[: , 2] = 5\n",
    "# This line of code changing the value in coulmn number 2 in every row in the array to 5\n",
    "print (a)"
   ]
  },
  {
   "cell_type": "markdown",
   "id": "eeb663a1",
   "metadata": {},
   "source": [
    "<br>"
   ]
  },
  {
   "cell_type": "markdown",
   "id": "d56eb143",
   "metadata": {},
   "source": [
    "### 3-dimentional array example"
   ]
  },
  {
   "cell_type": "code",
   "execution_count": 18,
   "id": "55031d5a",
   "metadata": {},
   "outputs": [
    {
     "name": "stdout",
     "output_type": "stream",
     "text": [
      "[[[1 2]\n",
      "  [3 4]]\n",
      "\n",
      " [[5 6]\n",
      "  [7 8]]]\n"
     ]
    }
   ],
   "source": [
    "a = np.array([ [[1,2] , [3,4]] , [[5,6] , [7,8]] ])\n",
    "print(a)"
   ]
  },
  {
   "cell_type": "markdown",
   "id": "b886199a",
   "metadata": {},
   "source": [
    "### Get a specific element from 3D array "
   ]
  },
  {
   "cell_type": "code",
   "execution_count": 19,
   "id": "85622807",
   "metadata": {},
   "outputs": [
    {
     "data": {
      "text/plain": [
       "4"
      ]
     },
     "execution_count": 19,
     "metadata": {},
     "output_type": "execute_result"
    }
   ],
   "source": [
    "#for example if you want to access number 4 in the previous array\n",
    "a[0,1,1]"
   ]
  },
  {
   "cell_type": "markdown",
   "id": "e991bcb3",
   "metadata": {},
   "source": [
    "<Br>"
   ]
  },
  {
   "cell_type": "markdown",
   "id": "a759636a",
   "metadata": {},
   "source": [
    "## Initializing different types of array"
   ]
  },
  {
   "cell_type": "markdown",
   "id": "66f1e656",
   "metadata": {},
   "source": [
    "#### The all zeros matrix"
   ]
  },
  {
   "cell_type": "code",
   "execution_count": 20,
   "id": "3826f59a",
   "metadata": {},
   "outputs": [
    {
     "name": "stdout",
     "output_type": "stream",
     "text": [
      "[0. 0. 0. 0. 0.]\n",
      "\n",
      "\n",
      "[[0. 0. 0.]\n",
      " [0. 0. 0.]]\n"
     ]
    }
   ],
   "source": [
    "print(np.zeros(5))\n",
    "\n",
    "'''\n",
    "this function initializes an array of zeros with the a size that you pass within\n",
    "\n",
    "you can also initialize the array with multi dimention as follows:\n",
    "'''\n",
    "print(\"\\n\")\n",
    "\n",
    "print (np.zeros((2,3)))\n"
   ]
  },
  {
   "cell_type": "markdown",
   "id": "abdab91b",
   "metadata": {},
   "source": [
    "#### The all ones matrix"
   ]
  },
  {
   "cell_type": "code",
   "execution_count": 9,
   "id": "8629b9d4",
   "metadata": {},
   "outputs": [
    {
     "data": {
      "text/plain": [
       "array([[[1, 1],\n",
       "        [1, 1]],\n",
       "\n",
       "       [[1, 1],\n",
       "        [1, 1]]], dtype=int16)"
      ]
     },
     "execution_count": 9,
     "metadata": {},
     "output_type": "execute_result"
    }
   ],
   "source": [
    "'''\n",
    "in the same way you can initialize an array of ones by using function \"ones()\"\n",
    "'''\n",
    "np.ones((2,2,2) , ('int16') )\n",
    "\n",
    "#Note the second parameter \"int16\" to change the type of the elements in the array as we change it with \"astype\" function before"
   ]
  },
  {
   "cell_type": "markdown",
   "id": "937a6c2a",
   "metadata": {},
   "source": [
    "#### Initialize array with any other number"
   ]
  },
  {
   "cell_type": "code",
   "execution_count": 22,
   "id": "51dd2bb7",
   "metadata": {},
   "outputs": [
    {
     "data": {
      "text/plain": [
       "array([[99, 99],\n",
       "       [99, 99]])"
      ]
     },
     "execution_count": 22,
     "metadata": {},
     "output_type": "execute_result"
    }
   ],
   "source": [
    "'''\n",
    "simply we use the function \"full()\" which takes 2 parameters:\n",
    " 1-The first parameter is the shape of the array.\n",
    " 2- The second parameter is the number that you want to fill the array with\n",
    "'''\n",
    "np.full((2,2) , 99)\n",
    "\n",
    "#That means to initialize an array 2x2 and fill it with number 99"
   ]
  },
  {
   "cell_type": "markdown",
   "id": "08f31b9c",
   "metadata": {},
   "source": [
    "#### Initialize random decimal numbers"
   ]
  },
  {
   "cell_type": "code",
   "execution_count": 25,
   "id": "9856fdcc",
   "metadata": {},
   "outputs": [
    {
     "data": {
      "text/plain": [
       "array([[0.61527837, 0.67045125],\n",
       "       [0.29140138, 0.84165474],\n",
       "       [0.67560131, 0.11996564],\n",
       "       [0.04665268, 0.0561588 ]])"
      ]
     },
     "execution_count": 25,
     "metadata": {},
     "output_type": "execute_result"
    }
   ],
   "source": [
    "'''\n",
    "\n",
    "to initialize an array of random decimal numbers use \"random.rand()\" which takes the size of array that you want to initialize\n",
    "\n",
    "'''\n",
    "np.random.rand(4,2)"
   ]
  },
  {
   "cell_type": "markdown",
   "id": "ed0ac0e9",
   "metadata": {},
   "source": [
    "#### Initialize random integer numbers"
   ]
  },
  {
   "cell_type": "code",
   "execution_count": 19,
   "id": "240c911a",
   "metadata": {},
   "outputs": [
    {
     "name": "stdout",
     "output_type": "stream",
     "text": [
      "6\n",
      "\n",
      "\n",
      "[[1 0 1]\n",
      " [6 3 2]\n",
      " [4 6 0]]\n",
      "\n",
      "\n",
      "[[4 6 5]\n",
      " [4 4 5]\n",
      " [4 5 5]]\n"
     ]
    }
   ],
   "source": [
    "'''\n",
    "if you want to initialize one integer, use the function \"random.ranint()\" and pass the end value\n",
    "for example if you want a number from 0 to 7 use \"random.randint(7)\"\n",
    "'''\n",
    "print (np.random.randint(7))\n",
    "\n",
    "'''\n",
    "you can also initialize an array with the same function with passing the shape of the array as follows:\n",
    "random.randint( 7 , size =(3,3))\n",
    "\n",
    "'''\n",
    "print (\"\\n\")\n",
    "print (np.random.randint(7 , size=(3,3)))\n",
    "\n",
    "'''\n",
    "you can also specify the the starting number like \" random.randint(4 , 7 , size= (3,3)) \" this code will generate a 3x3 array \n",
    "from 4 to 6\n",
    "\n",
    "'''\n",
    "print ('\\n')\n",
    "\n",
    "print (np.random.randint(4 , 7 , size= (3,3)))"
   ]
  },
  {
   "cell_type": "markdown",
   "id": "a4011d8d",
   "metadata": {},
   "source": [
    "### Repeat an array"
   ]
  },
  {
   "cell_type": "code",
   "execution_count": 29,
   "id": "1b0b2a7e",
   "metadata": {},
   "outputs": [
    {
     "name": "stdout",
     "output_type": "stream",
     "text": [
      "[1 1 1 2 2 2 3 3 3]\n",
      "\n",
      "\n",
      "[[1 2 3]\n",
      " [1 2 3]\n",
      " [1 2 3]]\n"
     ]
    }
   ],
   "source": [
    "'''\n",
    "\n",
    "to repeat an array use the function \"repeat()\" that can repeat the array in all dimentions depends on the parameters you pass.\n",
    " 1) The first parameter is the array you want to repeat\n",
    " 2) the second parameter is the number of times you want to repeat\n",
    "'''\n",
    "arr = [1,2,3]\n",
    "r1 = np.repeat(arr , 3)\n",
    "print (r1)\n",
    "\n",
    "\n",
    "'''\n",
    "\n",
    "int multi dimentional array, you pass the axis you want to repeat \n",
    "\n",
    "'''\n",
    "print ('\\n')\n",
    "arr2 = [[1,2,3]]\n",
    "r2 = np.repeat(arr2 , 3 , axis = 0)\n",
    "print (r2)"
   ]
  },
  {
   "cell_type": "markdown",
   "id": "eb90b3d5",
   "metadata": {},
   "source": [
    "### Becareful when coppying arrays!!"
   ]
  },
  {
   "cell_type": "code",
   "execution_count": 4,
   "id": "80a528bf",
   "metadata": {},
   "outputs": [
    {
     "name": "stdout",
     "output_type": "stream",
     "text": [
      "[100   2   3]\n",
      "[100   2   3]\n",
      "\n",
      "\n",
      "[4 5 6]\n",
      "[40  5  6]\n"
     ]
    }
   ],
   "source": [
    "c = np.array([1,2,3])\n",
    "d = c\n",
    "d [0] = 100\n",
    "\n",
    "print (d)\n",
    "print (c)\n",
    "print (\"\\n\")\n",
    "\n",
    "'''\n",
    "if you did this, then you didn't copy the array \"c\" to array \"d\".\n",
    "you just made a pointer that points to the same array so any change on array \"d\" will change in the array \"c\"\n",
    "\n",
    "'''\n",
    "\n",
    "'''\n",
    "\n",
    "To copy the contents of an array to another one use function \"copy()\" as follows :\n",
    "\n",
    "'''\n",
    "\n",
    "e = np.array([4,5,6])\n",
    "f = e.copy()\n",
    "f[0] = 40\n",
    "print (e)\n",
    "print (f)"
   ]
  },
  {
   "cell_type": "markdown",
   "id": "1c4d6243",
   "metadata": {},
   "source": [
    "<br>"
   ]
  },
  {
   "cell_type": "markdown",
   "id": "04766244",
   "metadata": {},
   "source": [
    "# Mathematics"
   ]
  },
  {
   "cell_type": "code",
   "execution_count": 11,
   "id": "4f454cb8",
   "metadata": {},
   "outputs": [
    {
     "name": "stdout",
     "output_type": "stream",
     "text": [
      "[1 2 3 4]\n"
     ]
    }
   ],
   "source": [
    "a = np.array([1,2,3,4])\n",
    "print (a)"
   ]
  },
  {
   "cell_type": "code",
   "execution_count": 12,
   "id": "add32deb",
   "metadata": {},
   "outputs": [
    {
     "data": {
      "text/plain": [
       "array([3, 4, 5, 6])"
      ]
     },
     "execution_count": 12,
     "metadata": {},
     "output_type": "execute_result"
    }
   ],
   "source": [
    "# Add a number to elements of the array\n",
    "a + 2"
   ]
  },
  {
   "cell_type": "code",
   "execution_count": 13,
   "id": "28da62c6",
   "metadata": {},
   "outputs": [
    {
     "data": {
      "text/plain": [
       "array([-1,  0,  1,  2])"
      ]
     },
     "execution_count": 13,
     "metadata": {},
     "output_type": "execute_result"
    }
   ],
   "source": [
    "# Sub a number from element of the array\n",
    "a - 2"
   ]
  },
  {
   "cell_type": "code",
   "execution_count": 14,
   "id": "0db4bad6",
   "metadata": {},
   "outputs": [
    {
     "data": {
      "text/plain": [
       "array([2, 4, 6, 8])"
      ]
     },
     "execution_count": 14,
     "metadata": {},
     "output_type": "execute_result"
    }
   ],
   "source": [
    "# Multiply a number by the elements of the array\n",
    "a * 2"
   ]
  },
  {
   "cell_type": "code",
   "execution_count": 15,
   "id": "710daa3a",
   "metadata": {},
   "outputs": [
    {
     "data": {
      "text/plain": [
       "array([0.5, 1. , 1.5, 2. ])"
      ]
     },
     "execution_count": 15,
     "metadata": {},
     "output_type": "execute_result"
    }
   ],
   "source": [
    "# Divide a number by the elements of the array\n",
    "a / 2"
   ]
  },
  {
   "cell_type": "code",
   "execution_count": 16,
   "id": "16b08382",
   "metadata": {},
   "outputs": [
    {
     "data": {
      "text/plain": [
       "array([ 1,  4,  9, 16], dtype=int32)"
      ]
     },
     "execution_count": 16,
     "metadata": {},
     "output_type": "execute_result"
    }
   ],
   "source": [
    "# Clculate power of the elements of the array\n",
    "a ** 2"
   ]
  },
  {
   "cell_type": "code",
   "execution_count": 17,
   "id": "f2ad4f1a",
   "metadata": {},
   "outputs": [
    {
     "name": "stdout",
     "output_type": "stream",
     "text": [
      "[3 4 5 6]\n"
     ]
    }
   ],
   "source": [
    "# To store the result in the array\n",
    "\n",
    "a += 2\n",
    "print (a)"
   ]
  },
  {
   "cell_type": "code",
   "execution_count": 25,
   "id": "551e3313",
   "metadata": {},
   "outputs": [
    {
     "name": "stdout",
     "output_type": "stream",
     "text": [
      "a = [3 4 5 6]\n",
      "b = [1 0 1 0]\n"
     ]
    },
    {
     "data": {
      "text/plain": [
       "array([4, 4, 6, 6])"
      ]
     },
     "execution_count": 25,
     "metadata": {},
     "output_type": "execute_result"
    }
   ],
   "source": [
    "# Add two arrays \n",
    "b = np.array([1,0,1,0])\n",
    "print (\"a = \"+str(a))\n",
    "print (\"b = \"+str(b))\n",
    "a + b"
   ]
  },
  {
   "cell_type": "code",
   "execution_count": 26,
   "id": "cf2b8ef5",
   "metadata": {},
   "outputs": [
    {
     "data": {
      "text/plain": [
       "array([ 0.14112001, -0.7568025 , -0.95892427, -0.2794155 ])"
      ]
     },
     "execution_count": 26,
     "metadata": {},
     "output_type": "execute_result"
    }
   ],
   "source": [
    "# Take the sin\n",
    "\n",
    "np.sin(a)"
   ]
  },
  {
   "cell_type": "markdown",
   "id": "9c37e4c3",
   "metadata": {},
   "source": [
    "#### For more mathematical functions  https://numpy.org/doc/stable/reference/routines.math.html"
   ]
  },
  {
   "cell_type": "markdown",
   "id": "e254dc1e",
   "metadata": {},
   "source": [
    "### Linear Algerbra "
   ]
  },
  {
   "cell_type": "code",
   "execution_count": 29,
   "id": "65b57d22",
   "metadata": {},
   "outputs": [
    {
     "name": "stdout",
     "output_type": "stream",
     "text": [
      "[[1. 1. 1.]\n",
      " [1. 1. 1.]]\n",
      "[[2 2]\n",
      " [2 2]\n",
      " [2 2]]\n"
     ]
    },
    {
     "data": {
      "text/plain": [
       "array([[6., 6.],\n",
       "       [6., 6.]])"
      ]
     },
     "execution_count": 29,
     "metadata": {},
     "output_type": "execute_result"
    }
   ],
   "source": [
    "a = np.ones((2,3))\n",
    "print(a)\n",
    "\n",
    "b = np.full((3,2), 2)\n",
    "print(b)\n",
    "\n",
    "'''\n",
    "Now to multiply the matrix \"a\" by matrix \"b\" we use function \"matmul()\"  --> (matrix multiply) as follows :\n",
    "\n",
    "'''\n",
    "np.matmul(a,b)"
   ]
  },
  {
   "cell_type": "markdown",
   "id": "80127946",
   "metadata": {},
   "source": [
    "#### More about linear algebra function   https://numpy.org/doc/stable/reference/routines.linalg.html"
   ]
  },
  {
   "cell_type": "markdown",
   "id": "c3c46103",
   "metadata": {},
   "source": [
    "### Statistics"
   ]
  },
  {
   "cell_type": "code",
   "execution_count": 30,
   "id": "b64afd75",
   "metadata": {},
   "outputs": [
    {
     "data": {
      "text/plain": [
       "array([[1, 2, 3],\n",
       "       [4, 5, 6]])"
      ]
     },
     "execution_count": 30,
     "metadata": {},
     "output_type": "execute_result"
    }
   ],
   "source": [
    "stats = np.array([[1,2,3],[4,5,6]])\n",
    "stats"
   ]
  },
  {
   "cell_type": "code",
   "execution_count": 31,
   "id": "5c6df190",
   "metadata": {},
   "outputs": [
    {
     "data": {
      "text/plain": [
       "1"
      ]
     },
     "execution_count": 31,
     "metadata": {},
     "output_type": "execute_result"
    }
   ],
   "source": [
    "# get minimum number of the array\n",
    "np.min(stats)"
   ]
  },
  {
   "cell_type": "code",
   "execution_count": 32,
   "id": "801e8af0",
   "metadata": {},
   "outputs": [
    {
     "data": {
      "text/plain": [
       "6"
      ]
     },
     "execution_count": 32,
     "metadata": {},
     "output_type": "execute_result"
    }
   ],
   "source": [
    "# get maximum number of the array\n",
    "np.max(stats)"
   ]
  },
  {
   "cell_type": "code",
   "execution_count": 34,
   "id": "9fdacde9",
   "metadata": {},
   "outputs": [
    {
     "data": {
      "text/plain": [
       "21"
      ]
     },
     "execution_count": 34,
     "metadata": {},
     "output_type": "execute_result"
    }
   ],
   "source": [
    "# get the sum of all elements of the array\n",
    "np.sum(stats)"
   ]
  }
 ],
 "metadata": {
  "kernelspec": {
   "display_name": "Python 3 (ipykernel)",
   "language": "python",
   "name": "python3"
  },
  "language_info": {
   "codemirror_mode": {
    "name": "ipython",
    "version": 3
   },
   "file_extension": ".py",
   "mimetype": "text/x-python",
   "name": "python",
   "nbconvert_exporter": "python",
   "pygments_lexer": "ipython3",
   "version": "3.9.7"
  }
 },
 "nbformat": 4,
 "nbformat_minor": 5
}
