{
 "cells": [
  {
   "cell_type": "markdown",
   "id": "ce77a140",
   "metadata": {},
   "source": [
    "# Numpy notes"
   ]
  },
  {
   "cell_type": "markdown",
   "id": "de1e7d86",
   "metadata": {},
   "source": [
    "### First thing to start with is to install the numpy library using command \" pip install numpy \" in your cmd"
   ]
  },
  {
   "cell_type": "markdown",
   "id": "0cd29a24",
   "metadata": {},
   "source": [
    "###  Or you can execute the command \" ! pip install numpy \" in Jupyter notebook :"
   ]
  },
  {
   "cell_type": "code",
   "execution_count": null,
   "id": "aad47623",
   "metadata": {},
   "outputs": [],
   "source": [
    "! pip install numpy"
   ]
  },
  {
   "cell_type": "markdown",
   "id": "f5f1cd93",
   "metadata": {},
   "source": [
    "<br>"
   ]
  },
  {
   "cell_type": "markdown",
   "id": "ebb7d4cf",
   "metadata": {},
   "source": [
    "### Importing the numpy library :"
   ]
  },
  {
   "cell_type": "code",
   "execution_count": 4,
   "id": "3fae3fae",
   "metadata": {},
   "outputs": [],
   "source": [
    "import numpy as np\n",
    "\n",
    "# Note : \"np\" is just a name. you can import the library as whatever you want"
   ]
  },
  {
   "cell_type": "markdown",
   "id": "ac71b992",
   "metadata": {},
   "source": [
    "### Initializing array :"
   ]
  },
  {
   "cell_type": "code",
   "execution_count": 5,
   "id": "5ce96dd3",
   "metadata": {},
   "outputs": [
    {
     "name": "stdout",
     "output_type": "stream",
     "text": [
      "[1 2 3]\n"
     ]
    }
   ],
   "source": [
    "# One dimentional array \n",
    "\n",
    "a = np.array([1,2,3])\n",
    "print (a)"
   ]
  },
  {
   "cell_type": "code",
   "execution_count": 6,
   "id": "f5db5435",
   "metadata": {},
   "outputs": [
    {
     "name": "stdout",
     "output_type": "stream",
     "text": [
      "[[9. 8. 7.]\n",
      " [6. 5. 4.]]\n"
     ]
    }
   ],
   "source": [
    "# two dimentional array \n",
    "\n",
    "b = np.array([[9.0 , 8.0,7.0],[6.0,5.0,4.0]])\n",
    "print (b)"
   ]
  },
  {
   "cell_type": "markdown",
   "id": "58a31d62",
   "metadata": {},
   "source": [
    "### Get the dimention of the array:"
   ]
  },
  {
   "cell_type": "code",
   "execution_count": 7,
   "id": "3ae6a19e",
   "metadata": {},
   "outputs": [
    {
     "name": "stdout",
     "output_type": "stream",
     "text": [
      "1\n",
      "2\n"
     ]
    }
   ],
   "source": [
    "# you can get the dimention of an array using \"ndim\"\n",
    "\n",
    "'''\n",
    "\n",
    "here the array a is one dimentional array while array b is two dimentional array\n",
    "\n",
    "'''\n",
    "\n",
    "print (a.ndim)\n",
    "print (b.ndim)"
   ]
  },
  {
   "cell_type": "markdown",
   "id": "c9dac77c",
   "metadata": {},
   "source": [
    "### Get shape of the array [r , c]"
   ]
  },
  {
   "cell_type": "code",
   "execution_count": 8,
   "id": "d362b4ad",
   "metadata": {},
   "outputs": [
    {
     "name": "stdout",
     "output_type": "stream",
     "text": [
      "(3,)\n",
      "(2, 3)\n"
     ]
    }
   ],
   "source": [
    "# you can get the shape of an array using \"shape\"\n",
    "'''\n",
    "the array a has 1 row and 3 columns  while array b has 2 rows and 3 columns \n",
    "'''\n",
    "print (a.shape)\n",
    "print (b.shape)"
   ]
  },
  {
   "cell_type": "markdown",
   "id": "ff6de663",
   "metadata": {},
   "source": [
    "### Get data type of of elements in array"
   ]
  },
  {
   "cell_type": "code",
   "execution_count": 9,
   "id": "273f4d43",
   "metadata": {},
   "outputs": [
    {
     "name": "stdout",
     "output_type": "stream",
     "text": [
      "int32\n"
     ]
    }
   ],
   "source": [
    "## you can get the type of an array using \"dtype\"\n",
    "\n",
    "print (a.dtype)"
   ]
  },
  {
   "cell_type": "markdown",
   "id": "4330a2b7",
   "metadata": {},
   "source": [
    "### To change the data type of an array"
   ]
  },
  {
   "cell_type": "code",
   "execution_count": 10,
   "id": "8d6e5ba8",
   "metadata": {},
   "outputs": [
    {
     "name": "stdout",
     "output_type": "stream",
     "text": [
      "float32\n"
     ]
    }
   ],
   "source": [
    "## you can change the type of an array using \"astype\"\n",
    "\n",
    "a = a.astype('float32')\n",
    "\n",
    "print (a.dtype)"
   ]
  },
  {
   "cell_type": "markdown",
   "id": "64098dfb",
   "metadata": {},
   "source": [
    "### Get size of an array "
   ]
  },
  {
   "cell_type": "code",
   "execution_count": 11,
   "id": "9a2e65f9",
   "metadata": {},
   "outputs": [
    {
     "name": "stdout",
     "output_type": "stream",
     "text": [
      "3\n",
      "6\n"
     ]
    }
   ],
   "source": [
    "## you can get the size of an array using \"size\"\n",
    "\n",
    "print (a.size)\n",
    "print (b.size)"
   ]
  },
  {
   "cell_type": "markdown",
   "id": "432dd8a1",
   "metadata": {},
   "source": [
    "### Accessing a specific element / row / column"
   ]
  },
  {
   "cell_type": "code",
   "execution_count": 12,
   "id": "ed879d8a",
   "metadata": {},
   "outputs": [
    {
     "name": "stdout",
     "output_type": "stream",
     "text": [
      "[[ 1  2  3  4  5  6  7]\n",
      " [ 8  9 10 11 12 13 14]]\n"
     ]
    }
   ],
   "source": [
    "a = np.array([[1,2,3,4,5,6,7] , [8,9,10,11,12,13,14]])\n",
    "print (a)"
   ]
  },
  {
   "cell_type": "markdown",
   "id": "c0faee1b",
   "metadata": {},
   "source": [
    "#### To get a specific row"
   ]
  },
  {
   "cell_type": "code",
   "execution_count": 13,
   "id": "de6dfe05",
   "metadata": {},
   "outputs": [
    {
     "data": {
      "text/plain": [
       "array([1, 2, 3, 4, 5, 6, 7])"
      ]
     },
     "execution_count": 13,
     "metadata": {},
     "output_type": "execute_result"
    }
   ],
   "source": [
    "a[0 , :]\n",
    "\n",
    "# This line of code accessing row number 0 and prints every element in this row"
   ]
  },
  {
   "cell_type": "markdown",
   "id": "bf45f18d",
   "metadata": {},
   "source": [
    "#### To get a specific column"
   ]
  },
  {
   "cell_type": "code",
   "execution_count": 14,
   "id": "7fbf0e70",
   "metadata": {},
   "outputs": [
    {
     "data": {
      "text/plain": [
       "array([ 3, 10])"
      ]
     },
     "execution_count": 14,
     "metadata": {},
     "output_type": "execute_result"
    }
   ],
   "source": [
    "a[ : , 2]\n",
    "\n",
    "# This line of code accessing the column number 2 in every row in the array"
   ]
  },
  {
   "cell_type": "markdown",
   "id": "0cb1d96e",
   "metadata": {},
   "source": [
    "#### More proffessional access [startindex: endindex: stepsize]"
   ]
  },
  {
   "cell_type": "code",
   "execution_count": 15,
   "id": "fe0bc107",
   "metadata": {},
   "outputs": [
    {
     "data": {
      "text/plain": [
       "array([2, 4, 6])"
      ]
     },
     "execution_count": 15,
     "metadata": {},
     "output_type": "execute_result"
    }
   ],
   "source": [
    "a[0 , 1:6:2]\n",
    "\n",
    "# This line of code accessing row number 0 and prints from column number 1 to column number 6 with step size 2"
   ]
  },
  {
   "cell_type": "markdown",
   "id": "f49bc03e",
   "metadata": {},
   "source": [
    "#### To change element in the array"
   ]
  },
  {
   "cell_type": "code",
   "execution_count": 16,
   "id": "1f7697e5",
   "metadata": {},
   "outputs": [
    {
     "name": "stdout",
     "output_type": "stream",
     "text": [
      "[[ 1  2  3  4  5  6  7]\n",
      " [ 8  9 10 11 12 20 14]]\n"
     ]
    }
   ],
   "source": [
    "a[1 , 5] = 20\n",
    "# This line of code accessing the element in the row 1 and column 5 which is \"13\" and change it to 20\n",
    "print (a)"
   ]
  },
  {
   "cell_type": "markdown",
   "id": "e7e28d24",
   "metadata": {},
   "source": [
    "#### To change elements in a specific columns in every row"
   ]
  },
  {
   "cell_type": "code",
   "execution_count": 17,
   "id": "9b7ea479",
   "metadata": {},
   "outputs": [
    {
     "name": "stdout",
     "output_type": "stream",
     "text": [
      "[[ 1  2  5  4  5  6  7]\n",
      " [ 8  9  5 11 12 20 14]]\n"
     ]
    }
   ],
   "source": [
    "a[: , 2] = 5\n",
    "# This line of code changing the value in coulmn number 2 in every row in the array to 5\n",
    "print (a)"
   ]
  },
  {
   "cell_type": "markdown",
   "id": "b37ae40d",
   "metadata": {},
   "source": [
    "<br>"
   ]
  },
  {
   "cell_type": "markdown",
   "id": "889695ce",
   "metadata": {},
   "source": [
    "### 3-dimentional array example"
   ]
  },
  {
   "cell_type": "code",
   "execution_count": 18,
   "id": "20ba1ed0",
   "metadata": {},
   "outputs": [
    {
     "name": "stdout",
     "output_type": "stream",
     "text": [
      "[[[1 2]\n",
      "  [3 4]]\n",
      "\n",
      " [[5 6]\n",
      "  [7 8]]]\n"
     ]
    }
   ],
   "source": [
    "a = np.array([ [[1,2] , [3,4]] , [[5,6] , [7,8]] ])\n",
    "print(a)"
   ]
  },
  {
   "cell_type": "markdown",
   "id": "eb36d4a9",
   "metadata": {},
   "source": [
    "### Get a specific element from 3D array "
   ]
  },
  {
   "cell_type": "code",
   "execution_count": 19,
   "id": "2c1b6fd1",
   "metadata": {},
   "outputs": [
    {
     "data": {
      "text/plain": [
       "4"
      ]
     },
     "execution_count": 19,
     "metadata": {},
     "output_type": "execute_result"
    }
   ],
   "source": [
    "#for example if you want to access number 4 in the previous array\n",
    "a[0,1,1]"
   ]
  },
  {
   "cell_type": "markdown",
   "id": "19500882",
   "metadata": {},
   "source": [
    "<Br>"
   ]
  },
  {
   "cell_type": "markdown",
   "id": "830c03ae",
   "metadata": {},
   "source": [
    "## Initializing different types of array"
   ]
  },
  {
   "cell_type": "markdown",
   "id": "d6c5fc5c",
   "metadata": {},
   "source": [
    "#### The all zeros matrix"
   ]
  },
  {
   "cell_type": "code",
   "execution_count": 20,
   "id": "010b6ca8",
   "metadata": {},
   "outputs": [
    {
     "name": "stdout",
     "output_type": "stream",
     "text": [
      "[0. 0. 0. 0. 0.]\n",
      "\n",
      "\n",
      "[[0. 0. 0.]\n",
      " [0. 0. 0.]]\n"
     ]
    }
   ],
   "source": [
    "print(np.zeros(5))\n",
    "\n",
    "'''\n",
    "this function initializes an array of zeros with the a size that you pass within\n",
    "\n",
    "you can also initialize the array with multi dimention as follows:\n",
    "'''\n",
    "print(\"\\n\")\n",
    "\n",
    "print (np.zeros((2,3)))\n"
   ]
  },
  {
   "cell_type": "markdown",
   "id": "c7ed5674",
   "metadata": {},
   "source": [
    "#### The all ones matrix"
   ]
  },
  {
   "cell_type": "code",
   "execution_count": 21,
   "id": "9f00f46b",
   "metadata": {},
   "outputs": [
    {
     "data": {
      "text/plain": [
       "array([[[1, 1],\n",
       "        [1, 1]],\n",
       "\n",
       "       [[1, 1],\n",
       "        [1, 1]]], dtype=int16)"
      ]
     },
     "execution_count": 21,
     "metadata": {},
     "output_type": "execute_result"
    }
   ],
   "source": [
    "'''\n",
    "in the same way you can initialize an array of ones by using function \"ones()\"\n",
    "'''\n",
    "np.ones((2,2,2) , 'int16')\n",
    "\n",
    "#Note the second parameter \"int16\" to change the type of the elements in the array as we change it with \"astype\" function before"
   ]
  },
  {
   "cell_type": "markdown",
   "id": "86f9b70b",
   "metadata": {},
   "source": [
    "#### Initialize array with any other number"
   ]
  },
  {
   "cell_type": "code",
   "execution_count": 22,
   "id": "543fa0a9",
   "metadata": {},
   "outputs": [
    {
     "data": {
      "text/plain": [
       "array([[99, 99],\n",
       "       [99, 99]])"
      ]
     },
     "execution_count": 22,
     "metadata": {},
     "output_type": "execute_result"
    }
   ],
   "source": [
    "'''\n",
    "simply we use the function \"full()\" which takes 2 parameters:\n",
    " 1-The first parameter is the shape of the array.\n",
    " 2- The second parameter is the number that you want to fill the array with\n",
    "'''\n",
    "np.full((2,2) , 99)\n",
    "\n",
    "#That means to initialize an array 2x2 and fill it with number 99"
   ]
  },
  {
   "cell_type": "markdown",
   "id": "94bc7717",
   "metadata": {},
   "source": [
    "#### Initialize random decimal numbers"
   ]
  },
  {
   "cell_type": "code",
   "execution_count": 25,
   "id": "77cd12b9",
   "metadata": {},
   "outputs": [
    {
     "data": {
      "text/plain": [
       "array([[0.61527837, 0.67045125],\n",
       "       [0.29140138, 0.84165474],\n",
       "       [0.67560131, 0.11996564],\n",
       "       [0.04665268, 0.0561588 ]])"
      ]
     },
     "execution_count": 25,
     "metadata": {},
     "output_type": "execute_result"
    }
   ],
   "source": [
    "'''\n",
    "\n",
    "to initialize an array of random decimal numbers use \"random.rand()\" which takes the size of array that you want to initialize\n",
    "\n",
    "'''\n",
    "np.random.rand(4,2)"
   ]
  },
  {
   "cell_type": "markdown",
   "id": "7a1e7fa8",
   "metadata": {},
   "source": [
    "#### Initialize random integer numbers"
   ]
  },
  {
   "cell_type": "code",
   "execution_count": null,
   "id": "c06698a1",
   "metadata": {},
   "outputs": [],
   "source": []
  }
 ],
 "metadata": {
  "kernelspec": {
   "display_name": "Python 3 (ipykernel)",
   "language": "python",
   "name": "python3"
  },
  "language_info": {
   "codemirror_mode": {
    "name": "ipython",
    "version": 3
   },
   "file_extension": ".py",
   "mimetype": "text/x-python",
   "name": "python",
   "nbconvert_exporter": "python",
   "pygments_lexer": "ipython3",
   "version": "3.9.7"
  }
 },
 "nbformat": 4,
 "nbformat_minor": 5
}
