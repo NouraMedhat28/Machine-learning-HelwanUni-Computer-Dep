{
 "cells": [
  {
   "cell_type": "markdown",
   "id": "c34c8761",
   "metadata": {},
   "source": [
    "# Numpy notes"
   ]
  },
  {
   "cell_type": "markdown",
   "id": "229e01ab",
   "metadata": {},
   "source": [
    "### First thing to start with is to install the numpy library using command \" pip install numpy \" in your cmd"
   ]
  },
  {
   "cell_type": "markdown",
   "id": "359469d5",
   "metadata": {},
   "source": [
    "###  Or you can execute the command \" ! pip install numpy \" in Jupyter notebook :"
   ]
  },
  {
   "cell_type": "code",
   "execution_count": 1,
   "id": "4fc0d793",
   "metadata": {},
   "outputs": [
    {
     "name": "stdout",
     "output_type": "stream",
     "text": [
      "Requirement already satisfied: numpy in c:\\users\\ahmed\\anaconda3\\lib\\site-packages (1.20.3)\n"
     ]
    }
   ],
   "source": [
    "! pip install numpy"
   ]
  },
  {
   "cell_type": "markdown",
   "id": "257aaaa1",
   "metadata": {},
   "source": [
    "<br>"
   ]
  },
  {
   "cell_type": "markdown",
   "id": "37402227",
   "metadata": {},
   "source": [
    "### Importing the numpy library :"
   ]
  },
  {
   "cell_type": "code",
   "execution_count": 15,
   "id": "e6eb4a47",
   "metadata": {},
   "outputs": [],
   "source": [
    "import numpy as np\n",
    "\n",
    "# Note : \"np\" is just a name. you can import the library as whatever you want"
   ]
  },
  {
   "cell_type": "markdown",
   "id": "434812c4",
   "metadata": {},
   "source": [
    "### Initializing array :"
   ]
  },
  {
   "cell_type": "code",
   "execution_count": 47,
   "id": "b7aeeded",
   "metadata": {},
   "outputs": [
    {
     "name": "stdout",
     "output_type": "stream",
     "text": [
      "[1 2 3]\n"
     ]
    }
   ],
   "source": [
    "# One dimentional array \n",
    "\n",
    "a = np.array([1,2,3])\n",
    "print (a)"
   ]
  },
  {
   "cell_type": "code",
   "execution_count": 20,
   "id": "eea0fc8b",
   "metadata": {},
   "outputs": [
    {
     "name": "stdout",
     "output_type": "stream",
     "text": [
      "[[9. 8. 7.]\n",
      " [6. 5. 4.]]\n"
     ]
    }
   ],
   "source": [
    "# two dimentional array \n",
    "\n",
    "b = np.array([[9.0 , 8.0,7.0],[6.0,5.0,4.0]])\n",
    "print (b)"
   ]
  },
  {
   "cell_type": "markdown",
   "id": "626a4b1d",
   "metadata": {},
   "source": [
    "### Get the dimention of the array:"
   ]
  },
  {
   "cell_type": "code",
   "execution_count": 54,
   "id": "357610cf",
   "metadata": {},
   "outputs": [
    {
     "name": "stdout",
     "output_type": "stream",
     "text": [
      "1\n",
      "2\n"
     ]
    }
   ],
   "source": [
    "# you can get the dimention of an array using \"ndim\"\n",
    "\n",
    "'''here the array a is one dimentional array while array b is two dimentional array'''\n",
    "\n",
    "print (a.ndim)\n",
    "print (b.ndim)"
   ]
  },
  {
   "cell_type": "markdown",
   "id": "2be93b24",
   "metadata": {},
   "source": [
    "### Get shape of the array [r , c]"
   ]
  },
  {
   "cell_type": "code",
   "execution_count": 35,
   "id": "388f4f1c",
   "metadata": {},
   "outputs": [
    {
     "name": "stdout",
     "output_type": "stream",
     "text": [
      "(3,)\n",
      "(2, 3)\n"
     ]
    }
   ],
   "source": [
    "# you can get the shape of an array using \"shape\"\n",
    "'''the array a has 1 row and 3 columns  while array b has 2 rows and 3 columns '''\n",
    "print (a.shape)\n",
    "print (b.shape)"
   ]
  },
  {
   "cell_type": "markdown",
   "id": "a1010818",
   "metadata": {},
   "source": [
    "### Get data type of of elements in array"
   ]
  },
  {
   "cell_type": "code",
   "execution_count": 48,
   "id": "f67a6e50",
   "metadata": {},
   "outputs": [
    {
     "name": "stdout",
     "output_type": "stream",
     "text": [
      "int32\n"
     ]
    }
   ],
   "source": [
    "## you can get the type of an array using \"dtype\"\n",
    "\n",
    "print (a.dtype)"
   ]
  },
  {
   "cell_type": "markdown",
   "id": "3dbde0d7",
   "metadata": {},
   "source": [
    "### To change the data type of an array"
   ]
  },
  {
   "cell_type": "code",
   "execution_count": 45,
   "id": "ba94362f",
   "metadata": {},
   "outputs": [
    {
     "name": "stdout",
     "output_type": "stream",
     "text": [
      "float32\n"
     ]
    }
   ],
   "source": [
    "## you can change the type of an array using \"astype\"\n",
    "\n",
    "a = a.astype('float32')\n",
    "\n",
    "print (a.dtype)"
   ]
  },
  {
   "cell_type": "markdown",
   "id": "e6627c32",
   "metadata": {},
   "source": [
    "### Get size of an array "
   ]
  },
  {
   "cell_type": "code",
   "execution_count": 53,
   "id": "7273de98",
   "metadata": {},
   "outputs": [
    {
     "name": "stdout",
     "output_type": "stream",
     "text": [
      "3\n",
      "6\n"
     ]
    }
   ],
   "source": [
    "## you can get the size of an array using \"size\"\n",
    "\n",
    "print (a.size)\n",
    "print (b.size)"
   ]
  },
  {
   "cell_type": "markdown",
   "id": "4b2b7c2e",
   "metadata": {},
   "source": [
    "### Accessing a specific element / row / column"
   ]
  },
  {
   "cell_type": "code",
   "execution_count": 65,
   "id": "ee319399",
   "metadata": {},
   "outputs": [
    {
     "name": "stdout",
     "output_type": "stream",
     "text": [
      "[[ 1  2  3  4  5  6  7]\n",
      " [ 8  9 10 11 12 13 14]]\n"
     ]
    }
   ],
   "source": [
    "a = np.array([[1,2,3,4,5,6,7] , [8,9,10,11,12,13,14]])\n",
    "print (a)"
   ]
  },
  {
   "cell_type": "markdown",
   "id": "2ba10e19",
   "metadata": {},
   "source": [
    "#### To get a specific row"
   ]
  },
  {
   "cell_type": "code",
   "execution_count": 68,
   "id": "3c582b15",
   "metadata": {},
   "outputs": [
    {
     "data": {
      "text/plain": [
       "array([1, 2, 3, 4, 5, 6, 7])"
      ]
     },
     "execution_count": 68,
     "metadata": {},
     "output_type": "execute_result"
    }
   ],
   "source": [
    "a[0 , :]\n",
    "\n",
    "# This line of code accessing row number 0 and prints every element in this row"
   ]
  },
  {
   "cell_type": "markdown",
   "id": "c109f3c6",
   "metadata": {},
   "source": [
    "#### To get a specific column"
   ]
  },
  {
   "cell_type": "code",
   "execution_count": 70,
   "id": "881b6a1c",
   "metadata": {},
   "outputs": [
    {
     "data": {
      "text/plain": [
       "array([ 3, 10])"
      ]
     },
     "execution_count": 70,
     "metadata": {},
     "output_type": "execute_result"
    }
   ],
   "source": [
    "a[ : , 2]\n",
    "\n",
    "# This line of code accessing the column number 2 in every row in the array"
   ]
  },
  {
   "cell_type": "markdown",
   "id": "0d79f5fe",
   "metadata": {},
   "source": [
    "#### More proffessional access [startindex: endindex: stepsize]"
   ]
  },
  {
   "cell_type": "code",
   "execution_count": 72,
   "id": "bf71ecf7",
   "metadata": {},
   "outputs": [
    {
     "data": {
      "text/plain": [
       "array([2, 4, 6])"
      ]
     },
     "execution_count": 72,
     "metadata": {},
     "output_type": "execute_result"
    }
   ],
   "source": [
    "a[0 , 1:6:2]\n",
    "\n",
    "# This line of code accessing row number 0 and prints from column number 1 to column number 6 with step size 2"
   ]
  },
  {
   "cell_type": "markdown",
   "id": "49353298",
   "metadata": {},
   "source": [
    "#### To change element in the array"
   ]
  },
  {
   "cell_type": "code",
   "execution_count": 75,
   "id": "ca90c944",
   "metadata": {},
   "outputs": [
    {
     "name": "stdout",
     "output_type": "stream",
     "text": [
      "[[ 1  2  3  4  5  6  7]\n",
      " [ 8  9 10 11 12 20 14]]\n"
     ]
    }
   ],
   "source": [
    "a[1 , 5] = 20\n",
    "# This line of code accessing the element in the row 1 and column 5 which is \"13\" and change it to 20\n",
    "print (a)"
   ]
  },
  {
   "cell_type": "markdown",
   "id": "8069771d",
   "metadata": {},
   "source": [
    "#### To change elements in a specific columns in every row"
   ]
  },
  {
   "cell_type": "code",
   "execution_count": 76,
   "id": "5eeaee70",
   "metadata": {},
   "outputs": [
    {
     "name": "stdout",
     "output_type": "stream",
     "text": [
      "[[ 1  2  5  4  5  6  7]\n",
      " [ 8  9  5 11 12 20 14]]\n"
     ]
    }
   ],
   "source": [
    "a[: , 2] = 5\n",
    "# This line of code changing the value in coulmn number 2 in every row in the array to 5\n",
    "print (a)"
   ]
  },
  {
   "cell_type": "markdown",
   "id": "7e34ee1c",
   "metadata": {},
   "source": [
    "<br>"
   ]
  },
  {
   "cell_type": "markdown",
   "id": "16b6cedf",
   "metadata": {},
   "source": [
    "### 3-dimentional array example"
   ]
  },
  {
   "cell_type": "code",
   "execution_count": 78,
   "id": "2d7952f5",
   "metadata": {},
   "outputs": [
    {
     "name": "stdout",
     "output_type": "stream",
     "text": [
      "[[[1 2]\n",
      "  [3 4]]\n",
      "\n",
      " [[5 6]\n",
      "  [7 8]]]\n"
     ]
    }
   ],
   "source": [
    "a = np.array([ [[1,2] , [3,4]] , [[5,6] , [7,8]] ])\n",
    "print(a)"
   ]
  },
  {
   "cell_type": "markdown",
   "id": "21f6e8d0",
   "metadata": {},
   "source": [
    "### Get a specific element from 3D array "
   ]
  },
  {
   "cell_type": "code",
   "execution_count": 79,
   "id": "ecc7ea5a",
   "metadata": {},
   "outputs": [
    {
     "data": {
      "text/plain": [
       "4"
      ]
     },
     "execution_count": 79,
     "metadata": {},
     "output_type": "execute_result"
    }
   ],
   "source": [
    "#for example if you want to access number 4 in the previous array\n",
    "a[0,1,1]"
   ]
  },
  {
   "cell_type": "markdown",
   "id": "347cc8c4",
   "metadata": {},
   "source": [
    "<Br>"
   ]
  },
  {
   "cell_type": "markdown",
   "id": "1dbf0469",
   "metadata": {},
   "source": [
    "## Initializing different types of array"
   ]
  },
  {
   "cell_type": "markdown",
   "id": "0458179a",
   "metadata": {},
   "source": [
    "#### The all zeros matrix"
   ]
  },
  {
   "cell_type": "code",
   "execution_count": 90,
   "id": "23e1a251",
   "metadata": {},
   "outputs": [
    {
     "name": "stdout",
     "output_type": "stream",
     "text": [
      "[0. 0. 0. 0. 0.]\n",
      "\n",
      "\n",
      "[[0. 0. 0.]\n",
      " [0. 0. 0.]]\n"
     ]
    }
   ],
   "source": [
    "\n",
    "print(np.zeros(5))\n",
    "\n",
    "'''\n",
    "this function initializes an array of zeros with the a size that you pass within\n",
    "\n",
    "you can also initialize the array with multi dimention as follows:\n",
    "'''\n",
    "print(\"\\n\")\n",
    "\n",
    "print (np.zeros((2,3)))\n"
   ]
  },
  {
   "cell_type": "markdown",
   "id": "23bf3f0d",
   "metadata": {},
   "source": [
    "#### The all ones matrix"
   ]
  },
  {
   "cell_type": "code",
   "execution_count": 96,
   "id": "ce3ea51d",
   "metadata": {},
   "outputs": [
    {
     "data": {
      "text/plain": [
       "array([[[1, 1],\n",
       "        [1, 1]],\n",
       "\n",
       "       [[1, 1],\n",
       "        [1, 1]]], dtype=int16)"
      ]
     },
     "execution_count": 96,
     "metadata": {},
     "output_type": "execute_result"
    }
   ],
   "source": [
    "'''\n",
    "in the same way you can initialize an array of ones by using function \"ones()\"\n",
    "'''\n",
    "np.ones((2,2,2) , 'int16')\n",
    "\n",
    "#Note the second parameter \"int16\" to change the type of the elements in the array as we change it with \"astype\" function before"
   ]
  },
  {
   "cell_type": "markdown",
   "id": "e0be3edd",
   "metadata": {},
   "source": [
    "#### Initialize array with any other number"
   ]
  },
  {
   "cell_type": "code",
   "execution_count": 98,
   "id": "bebb4d2a",
   "metadata": {},
   "outputs": [
    {
     "data": {
      "text/plain": [
       "array([[99, 99],\n",
       "       [99, 99]])"
      ]
     },
     "execution_count": 98,
     "metadata": {},
     "output_type": "execute_result"
    }
   ],
   "source": [
    "'''\n",
    "simply we use the function \"full()\" which takes 2 parameters:\n",
    " 1-The first parameter is the shape of the array.\n",
    " 2- The second parameter is the number that you want to fill the array with\n",
    "'''\n",
    "np.full((2,2) , 99)\n",
    "\n",
    "#That means to initialize an array 2x2 and fill it with number 99"
   ]
  },
  {
   "cell_type": "code",
   "execution_count": null,
   "id": "1c928382",
   "metadata": {},
   "outputs": [],
   "source": []
  }
 ],
 "metadata": {
  "kernelspec": {
   "display_name": "Python 3 (ipykernel)",
   "language": "python",
   "name": "python3"
  },
  "language_info": {
   "codemirror_mode": {
    "name": "ipython",
    "version": 3
   },
   "file_extension": ".py",
   "mimetype": "text/x-python",
   "name": "python",
   "nbconvert_exporter": "python",
   "pygments_lexer": "ipython3",
   "version": "3.9.7"
  }
 },
 "nbformat": 4,
 "nbformat_minor": 5
}
