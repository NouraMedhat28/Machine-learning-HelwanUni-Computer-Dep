{
 "cells": [
  {
   "cell_type": "code",
   "execution_count": 1,
   "metadata": {},
   "outputs": [],
   "source": [
    "import numpy as np\n",
    "import gym\n",
    "import matplotlib.pyplot as plt"
   ]
  },
  {
   "cell_type": "code",
   "execution_count": 2,
   "metadata": {
    "scrolled": true
   },
   "outputs": [
    {
     "name": "stderr",
     "output_type": "stream",
     "text": [
      "C:\\Users\\antoz\\anaconda3\\lib\\site-packages\\ipykernel\\ipkernel.py:287: DeprecationWarning: `should_run_async` will not call `transform_cell` automatically in the future. Please pass the result to `transformed_cell` argument and any exception that happen during thetransform in `preprocessing_exc_tuple` in IPython 7.17 and above.\n",
      "  and should_run_async(code)\n"
     ]
    }
   ],
   "source": [
    "'''\n",
    "The grid has 25 possible variations , each is 5x5 , then total states are 500 \n",
    "Actions : There are 6 possible actions, corresponding to moving North, East, \n",
    "South, or West, picking up the passenger, and dropping off the passenger , \n",
    "The rewards are -1 for moving , -10 for dropping off the passenger at the wrong place , 20 to drop at the right destination\n",
    "'''\n",
    "env = gym.make('Taxi-v3')\n",
    "inital_state = env.reset() # create a new instance of taxi, and get the initial state\n"
   ]
  },
  {
   "cell_type": "code",
   "execution_count": 3,
   "metadata": {},
   "outputs": [],
   "source": [
    "n_states, n_actions = env.observation_space.n, env.action_space.n\n",
    "lr=0.9\n",
    "discount_rate=0.8\n",
    "epsilon=1\n",
    "decay_rate = 0.07"
   ]
  },
  {
   "cell_type": "code",
   "execution_count": 4,
   "metadata": {},
   "outputs": [],
   "source": [
    "def init_q(n_states , n_actions):\n",
    "    Q=np.zeros((n_states,n_actions))\n",
    "    return Q"
   ]
  },
  {
   "cell_type": "code",
   "execution_count": 5,
   "metadata": {},
   "outputs": [
    {
     "data": {
      "text/plain": [
       "'\\nUse either one of them , exp decay takes more time to converge\\n'"
      ]
     },
     "execution_count": 5,
     "metadata": {},
     "output_type": "execute_result"
    }
   ],
   "source": [
    "# def exponential_decay_epsilon(Q_table ,epsilon ,n_actions , current_state , episode_num):\n",
    "#     \"\"\"\n",
    "#     explore more on early stages , explore less later on\n",
    "#     \"\"\"\n",
    "#     epsilon=np.exp(-decay_rate * episode_num)\n",
    "#     print(epsilon)\n",
    "#     if np.random.rand(1) > epsilon:\n",
    "#         return np.argmax(Q_table[current_state])\n",
    "#     else :\n",
    "#         return env.action_space.sample()\n",
    "    \n",
    "def epsilon_greedy(Q, epsilon, n_actions, s):\n",
    "    if  np.random.rand() < epsilon:\n",
    "        action = np.argmax(Q[s, :])\n",
    "    else:\n",
    "        action = np.random.randint(0, n_actions)\n",
    "    return action\n",
    "'''\n",
    "Use either one of them , exp decay takes more time to converge\n",
    "'''"
   ]
  },
  {
   "cell_type": "code",
   "execution_count": 6,
   "metadata": {},
   "outputs": [],
   "source": [
    "epochs=5000\n",
    "iterations=2500\n",
    "Q_table=init_q(n_states , n_actions)\n",
    "total_rewards=[]\n",
    "for i in range(epochs):\n",
    "    \n",
    "    old_state = env.reset()\n",
    "\n",
    "    for i in range(iterations):\n",
    "\n",
    "        action = epsilon_greedy(Q_table ,epsilon , n_actions , old_state)\n",
    "          \n",
    "        new_state, reward, done, info = env.step(action)\n",
    "        \n",
    "        if not done :\n",
    "            Q_table[old_state,action] += lr * ( reward + (discount_rate * np.max(Q_table[new_state , :])) - Q_table[old_state,action])\n",
    "            total_rewards.append(reward)\n",
    "            old_state=new_state\n",
    "        if done:\n",
    "            Q_table[old_state,action] += lr*( reward - Q_table[old_state,action])\n",
    "            total_rewards.append(reward)\n",
    "            old_state=new_state\n",
    "            break"
   ]
  },
  {
   "cell_type": "code",
   "execution_count": 7,
   "metadata": {},
   "outputs": [
    {
     "data": {
      "text/plain": [
       "[<matplotlib.lines.Line2D at 0x1c0db74b8e0>]"
      ]
     },
     "execution_count": 7,
     "metadata": {},
     "output_type": "execute_result"
    },
    {
     "data": {
      "image/png": "[encoded data removed]",
      "text/plain": [
       "<Figure size 432x288 with 1 Axes>"
      ]
     },
     "metadata": {
      "needs_background": "light"
     },
     "output_type": "display_data"
    }
   ],
   "source": [
    "plt.plot(total_rewards)"
   ]
  },
  {
   "cell_type": "code",
   "execution_count": 8,
   "metadata": {},
   "outputs": [
    {
     "data": {
      "text/plain": [
       "(array([  772.,     0.,     0., 75930.,     0.,     0.,     0.,     0.,\n",
       "            0.,  4962.]),\n",
       " array([-10.,  -7.,  -4.,  -1.,   2.,   5.,   8.,  11.,  14.,  17.,  20.]),\n",
       " <BarContainer object of 10 artists>)"
      ]
     },
     "execution_count": 8,
     "metadata": {},
     "output_type": "execute_result"
    },
    {
     "data": {
      "image/png": "[encoded data removed]",
      "text/plain": [
       "<Figure size 432x288 with 1 Axes>"
      ]
     },
     "metadata": {
      "needs_background": "light"
     },
     "output_type": "display_data"
    }
   ],
   "source": [
    "plt.hist(total_rewards)"
   ]
  },
  {
   "cell_type": "code",
   "execution_count": null,
   "metadata": {},
   "outputs": [],
   "source": []
  }
 ],
 "metadata": {
  "kernelspec": {
   "display_name": "Python 3",
   "language": "python",
   "name": "python3"
  },
  "language_info": {
   "codemirror_mode": {
    "name": "ipython",
    "version": 3
   },
   "file_extension": ".py",
   "mimetype": "text/x-python",
   "name": "python",
   "nbconvert_exporter": "python",
   "pygments_lexer": "ipython3",
   "version": "3.8.5"
  }
 },
 "nbformat": 4,
 "nbformat_minor": 4
}
